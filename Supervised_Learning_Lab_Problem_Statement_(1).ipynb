{
  "cells": [
    {
      "cell_type": "markdown",
      "id": "fcbd582c",
      "metadata": {
        "id": "fcbd582c"
      },
      "source": [
        "## Learning Outcomes\n",
        "- Exploratory data analysis & preparing the data for model building.\n",
        "- Machine Learning - Supervised Learning Classification\n",
        "  - Logistic Regression\n",
        "  - Naive bayes Classifier\n",
        "  - KNN Classifier\n",
        "  - Decision Tree Classifier\n",
        "  - Random Forest Classifier\n",
        "  - Ensemble methods\n",
        "- Training and making predictions using different classification models.\n",
        "- Model evaluation"
      ]
    },
    {
      "cell_type": "markdown",
      "id": "f2e961f9",
      "metadata": {
        "id": "f2e961f9"
      },
      "source": [
        "## Objective:\n",
        "- The Classification goal is to predict “heart disease” in a person with regards to different factors given.\n",
        "\n",
        "## Context:\n",
        "- Heart disease is one of the leading causes of death for people of most races in the US. At least 1 of 3 key risk factors for heart disease: high blood pressure, high cholesterol, and smoking.\n",
        "- Detecting and preventing the factors that have the greatest impact on heart disease is very important in healthcare. Machine learning methods may detect \"patterns\" from the data and can predict whether a patient is suffering from any heart disease or not..\n",
        "\n",
        "## Dataset Information\n",
        "\n",
        "#### Source: https://www.kaggle.com/datasets/kamilpytlak/personal-key-indicators-of-heart-disease?datasetId=1936563&sortBy=voteCount\n",
        "Originally, the dataset come from the CDC and is a major part of the Behavioral Risk Factor Surveillance System (BRFSS), which conducts annual telephone surveys to gather data on the health status of U.S. residents.\n",
        "\n",
        "This dataset consists of eighteen columns\n",
        "- HeartDisease: Respondents that have ever reported having coronary heart disease (CHD) or myocardial infarction (MI)\n",
        "- BMI: Body Mass Index (BMI)\n",
        "- Smoking: smoked at least 100 cigarettes in your entire life\n",
        "- AlcoholDrinking: Heavy drinkers (adult men having more than 14 drinks per week and adult women having more than 7 drinks per week\n",
        "- Stroke:Ever had a stroke?\n",
        "- PhysicalHealth: physical health, which includes physical illness and injury\n",
        "- MentalHealth: for how many days during the past 30 days was your mental health not good?\n",
        "- DiffWalking: Do you have serious difficulty walking or climbing stairs?\n",
        "- Sex: male or female?\n",
        "- AgeCategory: Fourteen-level age category\n",
        "- Race: Imputed race/ethnicity value\n",
        "- Diabetic: diabetes?\n",
        "- PhysicalActivity: Adults who reported doing physical activity or exercise during the past 30 days other than their regular job\n",
        "- GenHealth: Would you say that in general your health is good, fine or excellent?\n",
        "- SleepTime: On average, how many hours of sleep do you get in a 24-hour period?\n",
        "- Asthma: you had asthma?\n",
        "- KidneyDisease: Not including kidney stones, bladder infection or incontinence, were you ever told you had kidney disease?\n",
        "- SkinCancer: Ever had skin cancer?"
      ]
    },
    {
      "cell_type": "markdown",
      "id": "f8617014",
      "metadata": {
        "id": "f8617014"
      },
      "source": [
        "### 1. Importing Libraries"
      ]
    },
    {
      "cell_type": "code",
      "execution_count": null,
      "id": "c7172d3b",
      "metadata": {
        "id": "c7172d3b"
      },
      "outputs": [],
      "source": [
        "import numpy as np\n",
        "import pandas as pd\n",
        "import matplotlib.pyplot as plt\n",
        "import seaborn as sns\n",
        "import sklearn\n",
        "from sklearn.model_selection import train_test_split\n",
        "from sklearn.preprocessing import StandardScaler\n",
        "from sklearn.linear_model import LogisticRegression\n",
        "from sklearn.metrics import accuracy_score,confusion_matrix\n",
        "from sklearn.preprocessing import LabelEncoder\n",
        "import warnings\n",
        "warnings.filterwarnings('ignore')\n",
        "\n",
        "from sklearn.neighbors import KNeighborsClassifier\n",
        "from sklearn.naive_bayes import GaussianNB\n",
        "from sklearn.ensemble import RandomForestClassifier\n",
        "from sklearn.ensemble import StackingClassifier\n",
        "from sklearn.ensemble import AdaBoostClassifier, GradientBoostingClassifier\n",
        "from sklearn.tree import DecisionTreeClassifier"
      ]
    },
    {
      "cell_type": "markdown",
      "id": "8fe1a778",
      "metadata": {
        "id": "8fe1a778"
      },
      "source": [
        "### 2. Load the dataset and display a sample of five rows of the data frame."
      ]
    },
    {
      "cell_type": "code",
      "source": [
        "from google.colab import drive\n",
        "drive.mount('/content/drive')"
      ],
      "metadata": {
        "id": "-oior6m_3Xzg"
      },
      "id": "-oior6m_3Xzg",
      "execution_count": null,
      "outputs": []
    },
    {
      "cell_type": "code",
      "source": [
        "df = pd.read_csv('/content/drive/MyDrive/Datasets/heart_data.csv')\n",
        "df.head()"
      ],
      "metadata": {
        "id": "Vjw7zduy1MpH"
      },
      "id": "Vjw7zduy1MpH",
      "execution_count": null,
      "outputs": []
    },
    {
      "cell_type": "markdown",
      "id": "eda763be",
      "metadata": {
        "id": "eda763be"
      },
      "source": [
        "### 3. Check the shape of the data (number of rows and columns). Check the general information about the dataframe using the .info() method."
      ]
    },
    {
      "cell_type": "code",
      "execution_count": null,
      "id": "c246297d",
      "metadata": {
        "id": "c246297d"
      },
      "outputs": [],
      "source": [
        "## Lets check the shape\n",
        "df.shape"
      ]
    },
    {
      "cell_type": "code",
      "source": [
        "## Lets check basic information of the data\n",
        "df.info()"
      ],
      "metadata": {
        "id": "os3HBkKb35b0"
      },
      "id": "os3HBkKb35b0",
      "execution_count": null,
      "outputs": []
    },
    {
      "cell_type": "markdown",
      "source": [
        "\n",
        "\n",
        "1.   The output shows that we have around 319795 entries with 18 columns.\n",
        "\n",
        "2.   We have 14 object type data and 4 float type data.\n",
        "\n"
      ],
      "metadata": {
        "id": "_9pkeCKk4El-"
      },
      "id": "_9pkeCKk4El-"
    },
    {
      "cell_type": "markdown",
      "id": "b8470476",
      "metadata": {
        "id": "b8470476"
      },
      "source": [
        "### 4. Check the statistical summary of the dataset and write your inferences."
      ]
    },
    {
      "cell_type": "code",
      "execution_count": null,
      "id": "b28786f2",
      "metadata": {
        "id": "b28786f2"
      },
      "outputs": [],
      "source": [
        "## Lets check the statistical summary of the bumerical data\n",
        "df.describe().T"
      ]
    },
    {
      "cell_type": "code",
      "source": [
        "## Lets check the statistical summary of the categorical data\n",
        "df.describe(include='O')"
      ],
      "metadata": {
        "id": "S70NqGjb4spj"
      },
      "id": "S70NqGjb4spj",
      "execution_count": null,
      "outputs": []
    },
    {
      "cell_type": "markdown",
      "source": [
        "1.   The minimum value of the BMI is around 12 and maximum is 94.85.\n",
        "2.   The mental health indicates that for how many days during the past 30 days was your mental health not good, so that minimum value 0 means the person's mental health was good throughout the month whereas on an average it is 7 days that mental health was not good.\n",
        "3.   HeartDisease, Smoking, Alcohol Drinking, Stroke, DiffWalking, Sex, PhysicalActivity, Asthma, KidneyDisease, and SkinCancer columns contain the binary categories 'Yes' or 'NO'.\n",
        "4.   There are 6 different race category.\n",
        "\n",
        "\n",
        "\n"
      ],
      "metadata": {
        "id": "JvCF1St-483t"
      },
      "id": "JvCF1St-483t"
    },
    {
      "cell_type": "markdown",
      "id": "25d21a69",
      "metadata": {
        "id": "25d21a69"
      },
      "source": [
        "### 5. Check the percentage of missing values in each column of the data frame. Drop the missing values if there are any."
      ]
    },
    {
      "cell_type": "code",
      "execution_count": null,
      "id": "20d33888",
      "metadata": {
        "id": "20d33888"
      },
      "outputs": [],
      "source": [
        "# Checking missing values in each colunms\n",
        "df.isnull().sum()/len(df)*100"
      ]
    },
    {
      "cell_type": "markdown",
      "source": [
        "\n",
        "\n",
        "*   There are no missing values in the dataset.\n",
        "\n"
      ],
      "metadata": {
        "id": "zE1DWiUq5i-N"
      },
      "id": "zE1DWiUq5i-N"
    },
    {
      "cell_type": "markdown",
      "id": "030b4016",
      "metadata": {
        "id": "030b4016"
      },
      "source": [
        "### 6. Check if there are any duplicate rows. If any drop them and check the shape of the dataframe after dropping duplicates."
      ]
    },
    {
      "cell_type": "code",
      "execution_count": null,
      "id": "11f42ddc",
      "metadata": {
        "id": "11f42ddc"
      },
      "outputs": [],
      "source": [
        "len(df[df.duplicated()])"
      ]
    },
    {
      "cell_type": "markdown",
      "source": [
        "\n",
        "*   There are around 18K duplicate record, lets drop them.\n",
        "\n"
      ],
      "metadata": {
        "id": "VWwmodjx51DT"
      },
      "id": "VWwmodjx51DT"
    },
    {
      "cell_type": "code",
      "source": [
        "## dropping duplicates\n",
        "df.drop_duplicates(inplace=True)"
      ],
      "metadata": {
        "id": "2LkSzn205yY_"
      },
      "id": "2LkSzn205yY_",
      "execution_count": null,
      "outputs": []
    },
    {
      "cell_type": "code",
      "source": [
        "## checking the shape after dropping duplicates\n",
        "df.shape"
      ],
      "metadata": {
        "id": "VlM7hh225ymS"
      },
      "id": "VlM7hh225ymS",
      "execution_count": null,
      "outputs": []
    },
    {
      "cell_type": "markdown",
      "id": "817d0f41",
      "metadata": {
        "id": "817d0f41"
      },
      "source": [
        "### 7. Check the distribution of the target variable (i.e. 'HeartDisease') and write your observations."
      ]
    },
    {
      "cell_type": "code",
      "execution_count": null,
      "id": "62d1e2b3",
      "metadata": {
        "id": "62d1e2b3"
      },
      "outputs": [],
      "source": [
        "## Let's check the count of target variable\n",
        "df['HeartDisease'].value_counts().plot(kind='pie',autopct='%1.0f%%')\n",
        "plt.show()"
      ]
    },
    {
      "cell_type": "markdown",
      "source": [
        "\n",
        "\n",
        "*   We can observe that the target class distribution is highly imbalanced.\n",
        "\n"
      ],
      "metadata": {
        "id": "sUxOrttA6NSh"
      },
      "id": "sUxOrttA6NSh"
    },
    {
      "cell_type": "markdown",
      "id": "1cd33e88",
      "metadata": {
        "id": "1cd33e88"
      },
      "source": [
        "### 8. Visualize the distribution of the target column 'Heart disease' with respect to various categorical features and write your observations."
      ]
    },
    {
      "cell_type": "code",
      "execution_count": null,
      "id": "888be5c5",
      "metadata": {
        "id": "888be5c5"
      },
      "outputs": [],
      "source": [
        "### Categorical features in the dataset\n",
        "categorical_features = df.select_dtypes(include=[object])\n",
        "categorical_features.columns"
      ]
    },
    {
      "cell_type": "markdown",
      "source": [
        "\n",
        "\n",
        "*   Let's look at the distribution of the number of people with heart disease from various factors.\n",
        "\n"
      ],
      "metadata": {
        "id": "QIKmCf0K64a6"
      },
      "id": "QIKmCf0K64a6"
    },
    {
      "cell_type": "code",
      "source": [
        "i = 1\n",
        "plt.figure(figsize = (30,25))\n",
        "for feature in categorical_features:\n",
        "    plt.subplot(6,3,i)\n",
        "    sns.countplot(x = feature,hue = 'HeartDisease' , data = df)\n",
        "    i +=1"
      ],
      "metadata": {
        "id": "ePo_5PDw6y0G"
      },
      "id": "ePo_5PDw6y0G",
      "execution_count": null,
      "outputs": []
    },
    {
      "cell_type": "markdown",
      "source": [
        "\n",
        "\n",
        "*   From the plot we can observe that:\n",
        "*   People who smoke have higher chances of heart diesease than non smokers.\n",
        "*   Male are more prone to suffer from heart diseases as compared to females.\n",
        "*   People with age limit in between 55-75 has higher chances of getting heart diseases.\n",
        "*   If person has difficulty in walking or climbing stairs there is a high probability that he or she is suffering from some heart disease.\n",
        "*   There are higher chances of a person having heart disease if he does not have any kidney disease.\n",
        "\n",
        "\n"
      ],
      "metadata": {
        "id": "r9VslBxN7Q8i"
      },
      "id": "r9VslBxN7Q8i"
    },
    {
      "cell_type": "markdown",
      "id": "11af76b7",
      "metadata": {
        "id": "11af76b7"
      },
      "source": [
        "### 9. Check the unique categories in the column 'Diabetic'. Replace 'Yes (during pregnancy)' as 'Yes' and 'No, borderline diabetes' as 'No'."
      ]
    },
    {
      "cell_type": "code",
      "execution_count": null,
      "id": "86fccebe",
      "metadata": {
        "id": "86fccebe"
      },
      "outputs": [],
      "source": [
        "## let check unique categories in column 'Diabetic'\n",
        "df['Diabetic'].unique()"
      ]
    },
    {
      "cell_type": "code",
      "source": [
        "df['Diabetic'] = df['Diabetic'].replace({'Yes (during pregnancy)':'Yes','No, borderline diabetes':'No'})"
      ],
      "metadata": {
        "id": "eRPV0Tmk8AHf"
      },
      "id": "eRPV0Tmk8AHf",
      "execution_count": null,
      "outputs": []
    },
    {
      "cell_type": "code",
      "source": [
        "## recheck\n",
        "df['Diabetic'].value_counts()"
      ],
      "metadata": {
        "id": "eZ5R_nFb8Aex"
      },
      "id": "eZ5R_nFb8Aex",
      "execution_count": null,
      "outputs": []
    },
    {
      "cell_type": "markdown",
      "id": "e204cd08",
      "metadata": {
        "id": "e204cd08"
      },
      "source": [
        "### 10. For the target column 'HeartDiease', Replace 'No' as 0 and 'Yes' as 1."
      ]
    },
    {
      "cell_type": "code",
      "execution_count": null,
      "id": "22190734",
      "metadata": {
        "id": "22190734"
      },
      "outputs": [],
      "source": [
        "## Replacing \"No\" as 0 and \"Yes\" as 1\n",
        "df['HeartDisease'] = df['HeartDisease'].replace({'Yes':1,'No':0})"
      ]
    },
    {
      "cell_type": "code",
      "source": [
        "## lets check\n",
        "df['HeartDisease'].value_counts()"
      ],
      "metadata": {
        "id": "3Pg_5_gI8X4b"
      },
      "id": "3Pg_5_gI8X4b",
      "execution_count": null,
      "outputs": []
    },
    {
      "cell_type": "markdown",
      "id": "7cdb58cd",
      "metadata": {
        "id": "7cdb58cd"
      },
      "source": [
        "### 11. Label Encode the columns \"AgeCategory\", \"Race\", and \"GenHealth\". Encode the rest of the columns using dummy encoding approach."
      ]
    },
    {
      "cell_type": "code",
      "execution_count": null,
      "id": "707747be",
      "metadata": {
        "id": "707747be"
      },
      "outputs": [],
      "source": [
        "## Label Encoding categorical variables using \"AgeCategory\", \"Race\", and \"GenHealth\" label encoder\n",
        "\n",
        "## select object datatype variables\n",
        "object_type_variables = [i for i in df[['AgeCategory','Race','GenHealth']] if df.dtypes[i] == object]\n",
        "object_type_variables\n",
        "\n",
        "\n",
        "le = LabelEncoder()\n",
        "\n",
        "def encoder(df):\n",
        "    for i in object_type_variables:\n",
        "        q = le.fit_transform(df[i].astype(str))\n",
        "        df[i] = q\n",
        "        df[i] = df[i].astype(int)\n",
        "encoder(df)"
      ]
    },
    {
      "cell_type": "code",
      "source": [
        "## Dummy encoding the rest of the columns, since they have binary entries. 'Yes' or 'No'\n",
        "df = pd.get_dummies(df,drop_first=True)"
      ],
      "metadata": {
        "id": "rEQ8Youz8i3u"
      },
      "id": "rEQ8Youz8i3u",
      "execution_count": null,
      "outputs": []
    },
    {
      "cell_type": "code",
      "source": [
        "## let check few samples after encoding.\n",
        "df.head(2)"
      ],
      "metadata": {
        "id": "nZcWh4ig8meX"
      },
      "id": "nZcWh4ig8meX",
      "execution_count": null,
      "outputs": []
    },
    {
      "cell_type": "markdown",
      "id": "ddb3a715",
      "metadata": {
        "id": "ddb3a715"
      },
      "source": [
        "### 12. Store the target column (i.e.'HeartDisease') in the y variable and the rest of the columns in the X variable."
      ]
    },
    {
      "cell_type": "code",
      "execution_count": null,
      "id": "9628128c",
      "metadata": {
        "id": "9628128c"
      },
      "outputs": [],
      "source": [
        "## Lets store the target column in the Y variable and the rest of the columns in the X variable.\n",
        "X = df.drop('HeartDisease',axis=1)\n",
        "y = df['HeartDisease']"
      ]
    },
    {
      "cell_type": "markdown",
      "id": "68db6b1e",
      "metadata": {
        "id": "68db6b1e"
      },
      "source": [
        "### 13. Split the dataset into two parts (i.e. 70% train and 30% test) and print the shape of the train and test data"
      ]
    },
    {
      "cell_type": "code",
      "execution_count": null,
      "id": "0077d21b",
      "metadata": {
        "id": "0077d21b"
      },
      "outputs": [],
      "source": [
        "## train_test_split() is used to divide dataset into training and test set\n",
        "X_train, X_test, y_train, y_test = train_test_split(X, y, test_size=0.2)\n",
        "\n",
        "print(X_train.shape,X_test.shape)\n",
        "print(y_train.shape,y_test.shape)"
      ]
    },
    {
      "cell_type": "markdown",
      "id": "495ea012",
      "metadata": {
        "id": "495ea012"
      },
      "source": [
        "### 14. Standardize the numerical columns using Standard Scalar approach for both train and test data."
      ]
    },
    {
      "cell_type": "code",
      "execution_count": null,
      "id": "19357a7b",
      "metadata": {
        "id": "19357a7b"
      },
      "outputs": [],
      "source": [
        "## Standardizing only numerical columns. (not standardizing the dummy encoded data)\n",
        "ss = StandardScaler()\n",
        "\n",
        "X_train.iloc[:,:7] = ss.fit_transform(X_train.iloc[:,:7])\n",
        "X_test.iloc[:,:7] = ss.transform(X_test.iloc[:,:7])"
      ]
    },
    {
      "cell_type": "code",
      "source": [
        "## Lets check few scaled features\n",
        "X_train.head(2)"
      ],
      "metadata": {
        "id": "_7ky7qTL-ZG1"
      },
      "id": "_7ky7qTL-ZG1",
      "execution_count": null,
      "outputs": []
    },
    {
      "cell_type": "code",
      "source": [
        "X_test.head(2)"
      ],
      "metadata": {
        "id": "bS2wfxPI-fkH"
      },
      "id": "bS2wfxPI-fkH",
      "execution_count": null,
      "outputs": []
    },
    {
      "cell_type": "markdown",
      "id": "84d0e4a4",
      "metadata": {
        "id": "84d0e4a4"
      },
      "source": [
        "### 15. Write a function.\n",
        "- i) Which can take the model and data as inputs.\n",
        "- ii) Fits the model with the train data.\n",
        "- iii) Makes predictions on the test set.\n",
        "- iv) Returns the Accuracy Score."
      ]
    },
    {
      "cell_type": "code",
      "execution_count": null,
      "id": "e02c8c82",
      "metadata": {
        "id": "e02c8c82"
      },
      "outputs": [],
      "source": [
        "def fit_n_print(model, X_train, X_test, y_train, y_test):  # take the model, and data as inputs\n",
        "\n",
        "    model.fit(X_train, y_train)   # fits the model with the train data\n",
        "\n",
        "    pred = model.predict(X_test)  # makes predictions on the test set\n",
        "\n",
        "    accuracy = accuracy_score(y_test, pred)\n",
        "\n",
        "    return accuracy  # return all the metrics"
      ]
    },
    {
      "cell_type": "markdown",
      "id": "e709b9d4",
      "metadata": {
        "id": "e709b9d4"
      },
      "source": [
        "### 16. Use the function and train a Logistic regression, KNN, Naive Bayes, Decision tree, Random Forest, Adaboost, GradientBoost, and Stacked Classifier models and make predictions on test data and evaluate the models, compare and write your conclusions and steps to be taken in future in order to improve the accuracy of the model."
      ]
    },
    {
      "cell_type": "code",
      "execution_count": null,
      "id": "a63e0e03",
      "metadata": {
        "id": "a63e0e03"
      },
      "outputs": [],
      "source": [
        "## Intializing the models\n",
        "\n",
        "lr = LogisticRegression()\n",
        "nb = GaussianNB()\n",
        "knn = KNeighborsClassifier()\n",
        "dt = DecisionTreeClassifier()\n",
        "rf = RandomForestClassifier()\n",
        "adb = AdaBoostClassifier()\n",
        "gb = GradientBoostingClassifier()\n",
        "\n",
        "estimators = [('rf', rf),('knn', knn), ('gb', gb), ('adb', adb)]\n",
        "sc = StackingClassifier(estimators=estimators, final_estimator=rf)"
      ]
    },
    {
      "cell_type": "code",
      "source": [
        "result = pd.DataFrame(columns = ['Accuracy'])\n",
        "\n",
        "for model, model_name in zip([lr, nb, knn, dt, rf, adb, gb, sc],\n",
        "                             ['Logistic Regression','Naive Bayes','KNN','Decision tree',\n",
        "                              'Random Forest', 'Ada Boost', 'Gradient Boost', 'Stacking']):\n",
        "\n",
        "    result.loc[model_name] = fit_n_print(model, X_train, X_test, y_train, y_test)"
      ],
      "metadata": {
        "id": "fDr2QQWvyhg0"
      },
      "id": "fDr2QQWvyhg0",
      "execution_count": null,
      "outputs": []
    },
    {
      "cell_type": "code",
      "source": [
        "result"
      ],
      "metadata": {
        "id": "vCA20LQKy7RX"
      },
      "id": "vCA20LQKy7RX",
      "execution_count": null,
      "outputs": []
    },
    {
      "cell_type": "markdown",
      "id": "K5f-IKPLV3bN",
      "metadata": {
        "id": "K5f-IKPLV3bN"
      },
      "source": [
        "### Conclusion\n",
        "\n",
        "From EDA:-\n",
        "People who smoke have higher chances of heart diesease than no smokers\n",
        "Male are more prone to suffer from heart diseases as compared to females\n",
        "People with age limit in between 55-75 has higher chances of getting heart diseases\n",
        "If person has difficulty in walking or climbing stairs there is a high probability that he or she is suffering from some heart disease\n",
        "There are higher chances of a person having heart disease if he does not have any kidney disease.\n",
        "From Model:-\n",
        "We see that the best performing models are Gradient Boost, Adaboost,Logistic Regression and KNN with around 91% accuracy.\n",
        "Please note that the target class is highly imbalanced So, accuracy does not holds good for imbalanced data. Accuracy becomes poor measure of evaluation for our classification model in this context.\n",
        "We can further go with evaluating the models based on the different performance metrics such as presicion, recall and F1score and choose the model accordingly.\n"
      ]
    },
    {
      "cell_type": "markdown",
      "id": "515596d0",
      "metadata": {
        "id": "515596d0"
      },
      "source": [
        "----\n",
        "## Happy Learning:)\n",
        "----"
      ]
    }
  ],
  "metadata": {
    "colab": {
      "provenance": []
    },
    "kernelspec": {
      "display_name": "Python 3 (ipykernel)",
      "language": "python",
      "name": "python3"
    },
    "language_info": {
      "codemirror_mode": {
        "name": "ipython",
        "version": 3
      },
      "file_extension": ".py",
      "mimetype": "text/x-python",
      "name": "python",
      "nbconvert_exporter": "python",
      "pygments_lexer": "ipython3",
      "version": "3.9.7"
    }
  },
  "nbformat": 4,
  "nbformat_minor": 5
}